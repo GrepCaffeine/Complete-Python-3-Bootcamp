{
 "cells": [
  {
   "cell_type": "code",
   "execution_count": 1,
   "id": "553a09b1",
   "metadata": {},
   "outputs": [
    {
     "name": "stdout",
     "output_type": "stream",
     "text": [
      "Writing myfile.txt\n"
     ]
    }
   ],
   "source": [
    "%%writefile myfile.txt\n",
    "Hello World, this is a text file.\n",
    "This is the second line.\n",
    "This is the thrid line."
   ]
  },
  {
   "cell_type": "code",
   "execution_count": 2,
   "id": "328d7cea",
   "metadata": {},
   "outputs": [],
   "source": [
    "myfile = open('myfile.txt')"
   ]
  },
  {
   "cell_type": "code",
   "execution_count": 3,
   "id": "52759b4b",
   "metadata": {},
   "outputs": [
    {
     "ename": "FileNotFoundError",
     "evalue": "[Errno 2] No such file or directory: 'whoops_wrong.txt'",
     "output_type": "error",
     "traceback": [
      "\u001b[0;31m---------------------------------------------------------------------------\u001b[0m",
      "\u001b[0;31mFileNotFoundError\u001b[0m                         Traceback (most recent call last)",
      "\u001b[0;32m/tmp/ipykernel_84399/527834212.py\u001b[0m in \u001b[0;36m<module>\u001b[0;34m\u001b[0m\n\u001b[0;32m----> 1\u001b[0;31m \u001b[0mnotmyfile\u001b[0m \u001b[0;34m=\u001b[0m \u001b[0mopen\u001b[0m\u001b[0;34m(\u001b[0m\u001b[0;34m'whoops_wrong.txt'\u001b[0m\u001b[0;34m)\u001b[0m\u001b[0;34m\u001b[0m\u001b[0;34m\u001b[0m\u001b[0m\n\u001b[0m",
      "\u001b[0;31mFileNotFoundError\u001b[0m: [Errno 2] No such file or directory: 'whoops_wrong.txt'"
     ]
    }
   ],
   "source": [
    "notmyfile = open('whoops_wrong.txt')"
   ]
  },
  {
   "cell_type": "code",
   "execution_count": 4,
   "id": "d5862800",
   "metadata": {},
   "outputs": [
    {
     "ename": "FileNotFoundError",
     "evalue": "[Errno 2] No such file or directory: '/test.txt'",
     "output_type": "error",
     "traceback": [
      "\u001b[0;31m---------------------------------------------------------------------------\u001b[0m",
      "\u001b[0;31mFileNotFoundError\u001b[0m                         Traceback (most recent call last)",
      "\u001b[0;32m/tmp/ipykernel_84399/3867701468.py\u001b[0m in \u001b[0;36m<module>\u001b[0;34m\u001b[0m\n\u001b[0;32m----> 1\u001b[0;31m \u001b[0mstillnotmyfile\u001b[0m \u001b[0;34m=\u001b[0m \u001b[0mopen\u001b[0m\u001b[0;34m(\u001b[0m\u001b[0;34m'/test.txt'\u001b[0m\u001b[0;34m)\u001b[0m\u001b[0;34m\u001b[0m\u001b[0;34m\u001b[0m\u001b[0m\n\u001b[0m",
      "\u001b[0;31mFileNotFoundError\u001b[0m: [Errno 2] No such file or directory: '/test.txt'"
     ]
    }
   ],
   "source": [
    "stillnotmyfile = open('/test.txt')"
   ]
  },
  {
   "cell_type": "code",
   "execution_count": 5,
   "id": "b5c0faea",
   "metadata": {},
   "outputs": [
    {
     "data": {
      "text/plain": [
       "'/home/gc/dev/training/Complete-Python-3-Bootcamp/00-Python Object and Data Structure Basics'"
      ]
     },
     "execution_count": 5,
     "metadata": {},
     "output_type": "execute_result"
    }
   ],
   "source": [
    "pwd"
   ]
  },
  {
   "cell_type": "code",
   "execution_count": 6,
   "id": "fe2c30ab",
   "metadata": {},
   "outputs": [
    {
     "data": {
      "text/plain": [
       "'Hello World, this is a text file.\\nThis is the second line.\\nThis is the thrid line.\\n'"
      ]
     },
     "execution_count": 6,
     "metadata": {},
     "output_type": "execute_result"
    }
   ],
   "source": [
    "myfile.read()"
   ]
  },
  {
   "cell_type": "code",
   "execution_count": 7,
   "id": "582d981d",
   "metadata": {},
   "outputs": [
    {
     "data": {
      "text/plain": [
       "''"
      ]
     },
     "execution_count": 7,
     "metadata": {},
     "output_type": "execute_result"
    }
   ],
   "source": [
    "myfile.read()"
   ]
  },
  {
   "cell_type": "code",
   "execution_count": 15,
   "id": "16f3b7b4",
   "metadata": {},
   "outputs": [
    {
     "data": {
      "text/plain": [
       "0"
      ]
     },
     "execution_count": 15,
     "metadata": {},
     "output_type": "execute_result"
    }
   ],
   "source": [
    "myfile.seek(0)"
   ]
  },
  {
   "cell_type": "code",
   "execution_count": 11,
   "id": "ab15b6c5",
   "metadata": {},
   "outputs": [
    {
     "data": {
      "text/plain": [
       "'Hello World, this is a text file.\\nThis is the second line.\\nThis is the thrid line.\\n'"
      ]
     },
     "execution_count": 11,
     "metadata": {},
     "output_type": "execute_result"
    }
   ],
   "source": [
    "myfile.read()"
   ]
  },
  {
   "cell_type": "code",
   "execution_count": 13,
   "id": "e9d06b01",
   "metadata": {},
   "outputs": [],
   "source": [
    "contents = myfile.read()"
   ]
  },
  {
   "cell_type": "code",
   "execution_count": 14,
   "id": "01728fd3",
   "metadata": {},
   "outputs": [
    {
     "data": {
      "text/plain": [
       "'Hello World, this is a text file.\\nThis is the second line.\\nThis is the thrid line.\\n'"
      ]
     },
     "execution_count": 14,
     "metadata": {},
     "output_type": "execute_result"
    }
   ],
   "source": [
    "contents"
   ]
  },
  {
   "cell_type": "code",
   "execution_count": 16,
   "id": "b932b4cf",
   "metadata": {},
   "outputs": [
    {
     "data": {
      "text/plain": [
       "['Hello World, this is a text file.\\n',\n",
       " 'This is the second line.\\n',\n",
       " 'This is the thrid line.\\n']"
      ]
     },
     "execution_count": 16,
     "metadata": {},
     "output_type": "execute_result"
    }
   ],
   "source": [
    "myfile.readlines()"
   ]
  },
  {
   "cell_type": "code",
   "execution_count": 17,
   "id": "fc64a1cd",
   "metadata": {},
   "outputs": [],
   "source": [
    "readpass = open('/etc/passwd')"
   ]
  },
  {
   "cell_type": "code",
   "execution_count": 18,
   "id": "272cc6df",
   "metadata": {},
   "outputs": [
    {
     "data": {
      "text/plain": [
       "['root:x:0:0:root:/root:/bin/bash\\n',\n",
       " 'daemon:x:1:1:daemon:/usr/sbin:/usr/sbin/nologin\\n',\n",
       " 'bin:x:2:2:bin:/bin:/usr/sbin/nologin\\n',\n",
       " 'sys:x:3:3:sys:/dev:/usr/sbin/nologin\\n',\n",
       " 'sync:x:4:65534:sync:/bin:/bin/sync\\n',\n",
       " 'games:x:5:60:games:/usr/games:/usr/sbin/nologin\\n',\n",
       " 'man:x:6:12:man:/var/cache/man:/usr/sbin/nologin\\n',\n",
       " 'lp:x:7:7:lp:/var/spool/lpd:/usr/sbin/nologin\\n',\n",
       " 'mail:x:8:8:mail:/var/mail:/usr/sbin/nologin\\n',\n",
       " 'news:x:9:9:news:/var/spool/news:/usr/sbin/nologin\\n',\n",
       " 'uucp:x:10:10:uucp:/var/spool/uucp:/usr/sbin/nologin\\n',\n",
       " 'proxy:x:13:13:proxy:/bin:/usr/sbin/nologin\\n',\n",
       " 'www-data:x:33:33:www-data:/var/www:/usr/sbin/nologin\\n',\n",
       " 'backup:x:34:34:backup:/var/backups:/usr/sbin/nologin\\n',\n",
       " 'list:x:38:38:Mailing List Manager:/var/list:/usr/sbin/nologin\\n',\n",
       " 'irc:x:39:39:ircd:/run/ircd:/usr/sbin/nologin\\n',\n",
       " 'gnats:x:41:41:Gnats Bug-Reporting System (admin):/var/lib/gnats:/usr/sbin/nologin\\n',\n",
       " 'nobody:x:65534:65534:nobody:/nonexistent:/usr/sbin/nologin\\n',\n",
       " 'systemd-network:x:100:102:systemd Network Management,,,:/run/systemd:/usr/sbin/nologin\\n',\n",
       " 'systemd-resolve:x:101:103:systemd Resolver,,,:/run/systemd:/usr/sbin/nologin\\n',\n",
       " 'messagebus:x:102:105::/nonexistent:/usr/sbin/nologin\\n',\n",
       " 'systemd-timesync:x:103:106:systemd Time Synchronization,,,:/run/systemd:/usr/sbin/nologin\\n',\n",
       " 'syslog:x:104:111::/home/syslog:/usr/sbin/nologin\\n',\n",
       " '_apt:x:105:65534::/nonexistent:/usr/sbin/nologin\\n',\n",
       " 'tss:x:106:112:TPM software stack,,,:/var/lib/tpm:/bin/false\\n',\n",
       " 'uuidd:x:107:115::/run/uuidd:/usr/sbin/nologin\\n',\n",
       " 'systemd-oom:x:108:116:systemd Userspace OOM Killer,,,:/run/systemd:/usr/sbin/nologin\\n',\n",
       " 'tcpdump:x:109:117::/nonexistent:/usr/sbin/nologin\\n',\n",
       " 'avahi-autoipd:x:110:119:Avahi autoip daemon,,,:/var/lib/avahi-autoipd:/usr/sbin/nologin\\n',\n",
       " 'usbmux:x:111:46:usbmux daemon,,,:/var/lib/usbmux:/usr/sbin/nologin\\n',\n",
       " 'dnsmasq:x:112:65534:dnsmasq,,,:/var/lib/misc:/usr/sbin/nologin\\n',\n",
       " 'kernoops:x:113:65534:Kernel Oops Tracking Daemon,,,:/:/usr/sbin/nologin\\n',\n",
       " 'avahi:x:114:121:Avahi mDNS daemon,,,:/run/avahi-daemon:/usr/sbin/nologin\\n',\n",
       " 'cups-pk-helper:x:115:122:user for cups-pk-helper service,,,:/home/cups-pk-helper:/usr/sbin/nologin\\n',\n",
       " 'rtkit:x:116:123:RealtimeKit,,,:/proc:/usr/sbin/nologin\\n',\n",
       " 'whoopsie:x:117:124::/nonexistent:/bin/false\\n',\n",
       " 'sssd:x:118:125:SSSD system user,,,:/var/lib/sss:/usr/sbin/nologin\\n',\n",
       " 'speech-dispatcher:x:119:29:Speech Dispatcher,,,:/run/speech-dispatcher:/bin/false\\n',\n",
       " 'nm-openvpn:x:120:126:NetworkManager OpenVPN,,,:/var/lib/openvpn/chroot:/usr/sbin/nologin\\n',\n",
       " 'saned:x:121:128::/var/lib/saned:/usr/sbin/nologin\\n',\n",
       " 'colord:x:122:129:colord colour management daemon,,,:/var/lib/colord:/usr/sbin/nologin\\n',\n",
       " 'geoclue:x:123:130::/var/lib/geoclue:/usr/sbin/nologin\\n',\n",
       " 'pulse:x:124:131:PulseAudio daemon,,,:/run/pulse:/usr/sbin/nologin\\n',\n",
       " 'gnome-initial-setup:x:125:65534::/run/gnome-initial-setup/:/bin/false\\n',\n",
       " 'hplip:x:126:7:HPLIP system user,,,:/run/hplip:/bin/false\\n',\n",
       " 'gdm:x:127:133:Gnome Display Manager:/var/lib/gdm3:/bin/false\\n',\n",
       " 'gc:x:1000:1000:GrepCaffeine,,,:/home/gc:/usr/bin/zsh\\n',\n",
       " 'fwupd-refresh:x:128:136:fwupd-refresh user,,,:/run/systemd:/usr/sbin/nologin\\n']"
      ]
     },
     "execution_count": 18,
     "metadata": {},
     "output_type": "execute_result"
    }
   ],
   "source": [
    "readpass.readlines()"
   ]
  },
  {
   "cell_type": "code",
   "execution_count": 19,
   "id": "a7a996eb",
   "metadata": {},
   "outputs": [],
   "source": [
    "myfile.close()"
   ]
  },
  {
   "cell_type": "code",
   "execution_count": 20,
   "id": "df0e8977",
   "metadata": {},
   "outputs": [],
   "source": [
    "readpass.close()"
   ]
  },
  {
   "cell_type": "code",
   "execution_count": 23,
   "id": "906ddbe1",
   "metadata": {},
   "outputs": [],
   "source": [
    "with open('myfile.txt', mode='r') as myfile:\n",
    "    contents = myfile.read()"
   ]
  },
  {
   "cell_type": "code",
   "execution_count": 24,
   "id": "ea11e185",
   "metadata": {},
   "outputs": [
    {
     "data": {
      "text/plain": [
       "'Hello World, this is a text file.\\nThis is the second line.\\nThis is the thrid line.\\n'"
      ]
     },
     "execution_count": 24,
     "metadata": {},
     "output_type": "execute_result"
    }
   ],
   "source": [
    "contents"
   ]
  },
  {
   "cell_type": "code",
   "execution_count": 25,
   "id": "c8aeedaa",
   "metadata": {},
   "outputs": [
    {
     "data": {
      "text/plain": [
       "'Hello World, this is a text file.\\nThis is the second line.\\nThis is the thrid line.\\n'"
      ]
     },
     "execution_count": 25,
     "metadata": {},
     "output_type": "execute_result"
    }
   ],
   "source": [
    "contents"
   ]
  },
  {
   "cell_type": "code",
   "execution_count": 34,
   "id": "0eef7494",
   "metadata": {},
   "outputs": [
    {
     "name": "stdout",
     "output_type": "stream",
     "text": [
      "Overwriting another_file.txt\n"
     ]
    }
   ],
   "source": [
    "%%writefile another_file.txt\n",
    "ONE ON FIRST\n",
    "TWO ON SECOND\n",
    "THREE ON THIRD"
   ]
  },
  {
   "cell_type": "code",
   "execution_count": 37,
   "id": "7459475f",
   "metadata": {},
   "outputs": [
    {
     "name": "stdout",
     "output_type": "stream",
     "text": [
      "ONE ON FIRST\n",
      "TWO ON SECOND\n",
      "THREE ON THIRD\n",
      "FOUR ON FOURTH\n"
     ]
    }
   ],
   "source": [
    "with open('another_file.txt',mode='r') as f:\n",
    "    print(f.read())"
   ]
  },
  {
   "cell_type": "code",
   "execution_count": 36,
   "id": "c884a997",
   "metadata": {},
   "outputs": [],
   "source": [
    "with open('another_file.txt',mode='a') as f:\n",
    "    f.write('FOUR ON FOURTH')"
   ]
  },
  {
   "cell_type": "code",
   "execution_count": 38,
   "id": "37fdf671",
   "metadata": {},
   "outputs": [],
   "source": [
    "with open('lkasjdfl.txt',mode='w') as f:\n",
    "    f.write('It Liiiiives!')"
   ]
  },
  {
   "cell_type": "code",
   "execution_count": 39,
   "id": "81cdb900",
   "metadata": {},
   "outputs": [
    {
     "name": "stdout",
     "output_type": "stream",
     "text": [
      "It Liiiiives!\n"
     ]
    }
   ],
   "source": [
    "with open('lkasjdfl.txt',mode='r') as f:\n",
    "    print(f.read())"
   ]
  },
  {
   "cell_type": "code",
   "execution_count": null,
   "id": "4efa9b42",
   "metadata": {},
   "outputs": [],
   "source": []
  }
 ],
 "metadata": {
  "kernelspec": {
   "display_name": "Python 3 (ipykernel)",
   "language": "python",
   "name": "python3"
  },
  "language_info": {
   "codemirror_mode": {
    "name": "ipython",
    "version": 3
   },
   "file_extension": ".py",
   "mimetype": "text/x-python",
   "name": "python",
   "nbconvert_exporter": "python",
   "pygments_lexer": "ipython3",
   "version": "3.9.13"
  }
 },
 "nbformat": 4,
 "nbformat_minor": 5
}
