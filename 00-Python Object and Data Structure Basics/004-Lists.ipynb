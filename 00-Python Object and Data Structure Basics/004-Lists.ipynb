{
 "cells": [
  {
   "cell_type": "code",
   "execution_count": 1,
   "id": "3314486a",
   "metadata": {},
   "outputs": [],
   "source": [
    "my_list = [1,2,3]"
   ]
  },
  {
   "cell_type": "code",
   "execution_count": 2,
   "id": "35c74e70",
   "metadata": {},
   "outputs": [],
   "source": [
    "my_list2 = ['STRING',100,123.2]"
   ]
  },
  {
   "cell_type": "code",
   "execution_count": 3,
   "id": "ee06123e",
   "metadata": {},
   "outputs": [
    {
     "data": {
      "text/plain": [
       "3"
      ]
     },
     "execution_count": 3,
     "metadata": {},
     "output_type": "execute_result"
    }
   ],
   "source": [
    "len(my_list)"
   ]
  },
  {
   "cell_type": "code",
   "execution_count": 4,
   "id": "dde78439",
   "metadata": {},
   "outputs": [
    {
     "data": {
      "text/plain": [
       "3"
      ]
     },
     "execution_count": 4,
     "metadata": {},
     "output_type": "execute_result"
    }
   ],
   "source": [
    "len(my_list2)"
   ]
  },
  {
   "cell_type": "code",
   "execution_count": 6,
   "id": "5e153186",
   "metadata": {},
   "outputs": [
    {
     "data": {
      "text/plain": [
       "1"
      ]
     },
     "execution_count": 6,
     "metadata": {},
     "output_type": "execute_result"
    }
   ],
   "source": [
    "my_list[0]"
   ]
  },
  {
   "cell_type": "code",
   "execution_count": 7,
   "id": "f503d109",
   "metadata": {},
   "outputs": [
    {
     "data": {
      "text/plain": [
       "'STRING'"
      ]
     },
     "execution_count": 7,
     "metadata": {},
     "output_type": "execute_result"
    }
   ],
   "source": [
    "my_list[2]\n",
    "my_list2[0]"
   ]
  },
  {
   "cell_type": "code",
   "execution_count": 8,
   "id": "621709a5",
   "metadata": {},
   "outputs": [
    {
     "data": {
      "text/plain": [
       "3"
      ]
     },
     "execution_count": 8,
     "metadata": {},
     "output_type": "execute_result"
    }
   ],
   "source": [
    "my_list[2]"
   ]
  },
  {
   "cell_type": "code",
   "execution_count": 9,
   "id": "0dcbf0c4",
   "metadata": {},
   "outputs": [
    {
     "data": {
      "text/plain": [
       "[1, 2, 3, 'STRING', 100, 123.2]"
      ]
     },
     "execution_count": 9,
     "metadata": {},
     "output_type": "execute_result"
    }
   ],
   "source": [
    "my_list + my_list2"
   ]
  },
  {
   "cell_type": "code",
   "execution_count": 10,
   "id": "19978204",
   "metadata": {},
   "outputs": [],
   "source": [
    "big_list = my_list + my_list2"
   ]
  },
  {
   "cell_type": "code",
   "execution_count": 17,
   "id": "170ef2da",
   "metadata": {},
   "outputs": [],
   "source": [
    "blah = big_list[3]"
   ]
  },
  {
   "cell_type": "code",
   "execution_count": 18,
   "id": "31352a87",
   "metadata": {},
   "outputs": [
    {
     "name": "stdout",
     "output_type": "stream",
     "text": [
      "Test STRING\n"
     ]
    }
   ],
   "source": [
    "print(f'Test {blah}')"
   ]
  },
  {
   "cell_type": "code",
   "execution_count": 19,
   "id": "be4970ed",
   "metadata": {},
   "outputs": [],
   "source": [
    "big_list[3] = 'FOUR'"
   ]
  },
  {
   "cell_type": "code",
   "execution_count": 20,
   "id": "47aec2c9",
   "metadata": {},
   "outputs": [
    {
     "data": {
      "text/plain": [
       "[1, 2, 3, 'FOUR', 100, 123.2]"
      ]
     },
     "execution_count": 20,
     "metadata": {},
     "output_type": "execute_result"
    }
   ],
   "source": [
    "big_list"
   ]
  },
  {
   "cell_type": "code",
   "execution_count": 21,
   "id": "3e1e20c0",
   "metadata": {},
   "outputs": [],
   "source": [
    "big_list.append(7)"
   ]
  },
  {
   "cell_type": "code",
   "execution_count": 22,
   "id": "470cb994",
   "metadata": {},
   "outputs": [
    {
     "data": {
      "text/plain": [
       "[1, 2, 3, 'FOUR', 100, 123.2, 7]"
      ]
     },
     "execution_count": 22,
     "metadata": {},
     "output_type": "execute_result"
    }
   ],
   "source": [
    "big_list"
   ]
  },
  {
   "cell_type": "code",
   "execution_count": 26,
   "id": "e515ff7f",
   "metadata": {},
   "outputs": [],
   "source": [
    "big_list.reverse()"
   ]
  },
  {
   "cell_type": "code",
   "execution_count": 27,
   "id": "0cb553ff",
   "metadata": {},
   "outputs": [
    {
     "data": {
      "text/plain": [
       "[1, 2, 3, 'FOUR', 100, 123.2, 7]"
      ]
     },
     "execution_count": 27,
     "metadata": {},
     "output_type": "execute_result"
    }
   ],
   "source": [
    "big_list"
   ]
  },
  {
   "cell_type": "code",
   "execution_count": 28,
   "id": "bf601409",
   "metadata": {},
   "outputs": [
    {
     "data": {
      "text/plain": [
       "7"
      ]
     },
     "execution_count": 28,
     "metadata": {},
     "output_type": "execute_result"
    }
   ],
   "source": [
    "big_list.pop()"
   ]
  },
  {
   "cell_type": "code",
   "execution_count": 29,
   "id": "d5ee72cb",
   "metadata": {},
   "outputs": [
    {
     "data": {
      "text/plain": [
       "[1, 2, 3, 'FOUR', 100, 123.2]"
      ]
     },
     "execution_count": 29,
     "metadata": {},
     "output_type": "execute_result"
    }
   ],
   "source": [
    "big_list"
   ]
  },
  {
   "cell_type": "code",
   "execution_count": 30,
   "id": "7fb96118",
   "metadata": {},
   "outputs": [],
   "source": [
    "popped = big_list.pop()"
   ]
  },
  {
   "cell_type": "code",
   "execution_count": 31,
   "id": "ae8478e2",
   "metadata": {},
   "outputs": [
    {
     "data": {
      "text/plain": [
       "123.2"
      ]
     },
     "execution_count": 31,
     "metadata": {},
     "output_type": "execute_result"
    }
   ],
   "source": [
    "popped"
   ]
  },
  {
   "cell_type": "code",
   "execution_count": 32,
   "id": "53196697",
   "metadata": {},
   "outputs": [
    {
     "data": {
      "text/plain": [
       "[1, 2, 3, 'FOUR', 100]"
      ]
     },
     "execution_count": 32,
     "metadata": {},
     "output_type": "execute_result"
    }
   ],
   "source": [
    "big_list"
   ]
  },
  {
   "cell_type": "code",
   "execution_count": 34,
   "id": "8f5d547b",
   "metadata": {},
   "outputs": [],
   "source": [
    "popped = big_list.pop(3)"
   ]
  },
  {
   "cell_type": "code",
   "execution_count": 37,
   "id": "e3f4d64b",
   "metadata": {},
   "outputs": [
    {
     "data": {
      "text/plain": [
       "'FOUR'"
      ]
     },
     "execution_count": 37,
     "metadata": {},
     "output_type": "execute_result"
    }
   ],
   "source": [
    "popped"
   ]
  },
  {
   "cell_type": "code",
   "execution_count": 40,
   "id": "45d9a434",
   "metadata": {},
   "outputs": [
    {
     "data": {
      "text/plain": [
       "[1, 2, 3]"
      ]
     },
     "execution_count": 40,
     "metadata": {},
     "output_type": "execute_result"
    }
   ],
   "source": [
    "big_list"
   ]
  },
  {
   "cell_type": "code",
   "execution_count": 39,
   "id": "16520049",
   "metadata": {},
   "outputs": [],
   "source": [
    "popped = big_list.pop(3)"
   ]
  },
  {
   "cell_type": "code",
   "execution_count": 42,
   "id": "6750d5e2",
   "metadata": {},
   "outputs": [],
   "source": [
    "bad_list = ['a','d','z','e','c','b']\n",
    "badnum_list = [1,5,4,6,2]"
   ]
  },
  {
   "cell_type": "code",
   "execution_count": 43,
   "id": "2bc5bbef",
   "metadata": {},
   "outputs": [],
   "source": [
    "bad_list.sort()"
   ]
  },
  {
   "cell_type": "code",
   "execution_count": 44,
   "id": "c2fc4402",
   "metadata": {},
   "outputs": [
    {
     "data": {
      "text/plain": [
       "['a', 'b', 'c', 'd', 'e', 'z']"
      ]
     },
     "execution_count": 44,
     "metadata": {},
     "output_type": "execute_result"
    }
   ],
   "source": [
    "bad_list"
   ]
  },
  {
   "cell_type": "code",
   "execution_count": 45,
   "id": "395e8b55",
   "metadata": {},
   "outputs": [
    {
     "data": {
      "text/plain": [
       "list"
      ]
     },
     "execution_count": 45,
     "metadata": {},
     "output_type": "execute_result"
    }
   ],
   "source": [
    "type(bad_list)"
   ]
  },
  {
   "cell_type": "code",
   "execution_count": 46,
   "id": "32894771",
   "metadata": {},
   "outputs": [],
   "source": [
    "badnum_list.sort()"
   ]
  },
  {
   "cell_type": "code",
   "execution_count": 47,
   "id": "e65888c2",
   "metadata": {},
   "outputs": [
    {
     "data": {
      "text/plain": [
       "[1, 2, 4, 5, 6]"
      ]
     },
     "execution_count": 47,
     "metadata": {},
     "output_type": "execute_result"
    }
   ],
   "source": [
    "badnum_list"
   ]
  },
  {
   "cell_type": "code",
   "execution_count": 48,
   "id": "60b13b5a",
   "metadata": {},
   "outputs": [
    {
     "data": {
      "text/plain": [
       "list"
      ]
     },
     "execution_count": 48,
     "metadata": {},
     "output_type": "execute_result"
    }
   ],
   "source": [
    "type(badnum_list)"
   ]
  },
  {
   "cell_type": "code",
   "execution_count": 49,
   "id": "9600029c",
   "metadata": {},
   "outputs": [],
   "source": [
    "badnum_list.reverse()"
   ]
  },
  {
   "cell_type": "code",
   "execution_count": 50,
   "id": "647d48ff",
   "metadata": {},
   "outputs": [
    {
     "data": {
      "text/plain": [
       "[6, 5, 4, 2, 1]"
      ]
     },
     "execution_count": 50,
     "metadata": {},
     "output_type": "execute_result"
    }
   ],
   "source": [
    "badnum_list"
   ]
  },
  {
   "cell_type": "code",
   "execution_count": null,
   "id": "eb701191",
   "metadata": {},
   "outputs": [],
   "source": []
  }
 ],
 "metadata": {
  "kernelspec": {
   "display_name": "Python 3 (ipykernel)",
   "language": "python",
   "name": "python3"
  },
  "language_info": {
   "codemirror_mode": {
    "name": "ipython",
    "version": 3
   },
   "file_extension": ".py",
   "mimetype": "text/x-python",
   "name": "python",
   "nbconvert_exporter": "python",
   "pygments_lexer": "ipython3",
   "version": "3.9.13"
  }
 },
 "nbformat": 4,
 "nbformat_minor": 5
}
